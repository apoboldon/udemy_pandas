{
 "cells": [
  {
   "cell_type": "markdown",
   "metadata": {},
   "source": [
    "# Proyecto #8 - Haciendo Análisis de Funnels para un Ecommerce con 6 Data Sets - Parte 1"
   ]
  },
  {
   "cell_type": "markdown",
   "metadata": {},
   "source": [
    "La empresa Cool T-Shirts acaba de crear un sitio web para ordenar productos por intenert. Ellos quieren analizar dos datasets\n",
    "\n",
    "- `visits_site.csv` que contiene informacion de todas las visitas a la pagina\n",
    "- `checkouts.csv` que contiene todos los usuarios que hicieron checkout en la pagina\n",
    "\n",
    "Importe los datasets suministrados e imprimalos\n",
    "\n",
    "### Ciudado: en el momento de usar el metodo `read_csv` pase un segundo parametro para parsear las fechas asi: `parse_dates=[1]`"
   ]
  },
  {
   "cell_type": "code",
   "execution_count": null,
   "metadata": {},
   "outputs": [],
   "source": []
  },
  {
   "cell_type": "code",
   "execution_count": null,
   "metadata": {},
   "outputs": [],
   "source": []
  },
  {
   "cell_type": "code",
   "execution_count": null,
   "metadata": {},
   "outputs": [],
   "source": []
  },
  {
   "cell_type": "markdown",
   "metadata": {},
   "source": [
    "Queremos saber la cantidad de tiempo que transcurre desde la visita inicial de un usuario a la página web hasta el momento en que empieza a realizar el proceso de compra.\n",
    "\n",
    "para ello use `merge` para combinar `visits` y `checkouts` y guardelo en una variable `v_to_c`"
   ]
  },
  {
   "cell_type": "code",
   "execution_count": null,
   "metadata": {},
   "outputs": [],
   "source": []
  },
  {
   "cell_type": "markdown",
   "metadata": {},
   "source": [
    "Para calcular el tiempo entre la visita y el checkout, defina una columna `v_to_c` llamada `time`, la cual realiza el calculo de la diferencia. Llame el `.head()` para interpretar mejor el resultado y revise los tiempos de los usuarios en la nueva columna time!"
   ]
  },
  {
   "cell_type": "code",
   "execution_count": null,
   "metadata": {},
   "outputs": [],
   "source": []
  },
  {
   "cell_type": "markdown",
   "metadata": {},
   "source": [
    "Para obtener el tiempo promedio del checkout que codigo deberiamos ejecutar?\n"
   ]
  },
  {
   "cell_type": "code",
   "execution_count": null,
   "metadata": {},
   "outputs": [],
   "source": []
  },
  {
   "cell_type": "code",
   "execution_count": null,
   "metadata": {},
   "outputs": [],
   "source": []
  }
 ],
 "metadata": {
  "kernelspec": {
   "display_name": "Python 3",
   "language": "python",
   "name": "python3"
  },
  "language_info": {
   "codemirror_mode": {
    "name": "ipython",
    "version": 3
   },
   "file_extension": ".py",
   "mimetype": "text/x-python",
   "name": "python",
   "nbconvert_exporter": "python",
   "pygments_lexer": "ipython3",
   "version": "3.5.2"
  }
 },
 "nbformat": 4,
 "nbformat_minor": 2
}
